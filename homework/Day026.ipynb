{
 "cells": [
  {
   "cell_type": "code",
   "execution_count": 5,
   "metadata": {},
   "outputs": [],
   "source": [
    "import scrapy\n",
    "import requests\n",
    "from bs4 import BeautifulSoup\n",
    "\n",
    "class PTTCrawler (scrapy.Spider) :\n",
    "    name = 'PTTCrawler'\n",
    "    allowed_domains = ['www.ptt.cc']\n",
    "    start_urls = ['https://www.ptt.cc/bbs/NBA/M.1577677835.A.2E0.html']\n",
    "    \n",
    "    def parse(self,response):\n",
    "        soup = BeautifulSoup(response,body)\n",
    "        print(soup)\n",
    "    \n",
    "    def start_requests(self):\n",
    "        for url in self.start_urls :\n",
    "            yield scrapy.Request(url=url, cookies={'over18': '1'})\n",
    "    \n"
   ]
  }
 ],
 "metadata": {
  "kernelspec": {
   "display_name": "Python 3",
   "language": "python",
   "name": "python3"
  },
  "language_info": {
   "codemirror_mode": {
    "name": "ipython",
    "version": 3
   },
   "file_extension": ".py",
   "mimetype": "text/x-python",
   "name": "python",
   "nbconvert_exporter": "python",
   "pygments_lexer": "ipython3",
   "version": "3.7.3"
  }
 },
 "nbformat": 4,
 "nbformat_minor": 2
}
