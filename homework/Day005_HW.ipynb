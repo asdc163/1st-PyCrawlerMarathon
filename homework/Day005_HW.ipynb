{
 "cells": [
  {
   "cell_type": "markdown",
   "metadata": {},
   "source": [
    "# API 資料串接 - 以 Dcard API 實作範例\n",
    "\n",
    "* 利用 urllib 套件的 urlretrieve 方法下載檔案\n",
    "* 了解 Python File I/O 讀檔、寫檔的用法\n",
    "* 能用運用資源管理器 With Statement 優化寫法"
   ]
  },
  {
   "cell_type": "markdown",
   "metadata": {},
   "source": [
    "## 作業目標\n",
    "\n",
    "* 請利用 API: https://www.dcard.tw/_api/forums/pet/posts?popular=true 回答下列問題：\n",
    "\n",
    "1. 這個 API 一次會回傳幾筆資料？每一筆資料包含哪些欄位？\n",
    "2. 取出每一筆資料的「標題」、「貼文時間」、「留言人數」、「按讚人數」\n",
    "3. 計算熱門/非熱門文章的「平均留言人數」與「平均按讚人數」"
   ]
  },
  {
   "cell_type": "code",
   "execution_count": 24,
   "metadata": {},
   "outputs": [
    {
     "name": "stdout",
     "output_type": "stream",
     "text": [
      "30\n",
      "dict_keys(['id', 'title', 'excerpt', 'anonymousSchool', 'anonymousDepartment', 'pinned', 'forumId', 'replyId', 'createdAt', 'updatedAt', 'commentCount', 'likeCount', 'withNickname', 'tags', 'topics', 'meta', 'forumName', 'forumAlias', 'gender', 'school', 'replyTitle', 'mediaMeta', 'reactions', 'hidden', 'customStyle', 'isSuspiciousAccount', 'layout', 'withImages', 'withVideos', 'media', 'reportReasonText', 'postAvatar'])\n"
     ]
    }
   ],
   "source": [
    "# 1. 這個 API 一次會回傳幾筆資料？每一筆資料包含哪些欄位？\n",
    "import requests\n",
    "r = requests.get('https://www.dcard.tw/_api/forums/pet/posts?popular=true')\n",
    "\n",
    "response = r.text\n",
    "\n",
    "response\n",
    "print(len(data))\n",
    "print(data[0].keys())\n"
   ]
  },
  {
   "cell_type": "code",
   "execution_count": 15,
   "metadata": {},
   "outputs": [
    {
     "name": "stdout",
     "output_type": "stream",
     "text": [
      "這些狗你認識嗎😍\n",
      "2019-11-28T04:08:18.539Z\n",
      "17\n",
      "569\n",
      "不要被薩摩耶給騙了！\n",
      "2019-11-29T00:25:38.826Z\n",
      "18\n",
      "420\n",
      "充滿柴柴的人生❤️\n",
      "2019-11-28T07:19:45.391Z\n",
      "3\n",
      "208\n",
      "#圖多 偷看🐹上廁所......\n",
      "2019-11-28T13:44:17.224Z\n",
      "14\n",
      "178\n",
      "請問這樣算不算虐貓\n",
      "2019-11-28T09:04:40.825Z\n",
      "20\n",
      "123\n",
      "沒有責任感根本沒資格養寵物\n",
      "2019-11-28T11:47:21.176Z\n",
      "8\n",
      "67\n",
      "兄弟貓🧐\n",
      "2019-11-28T12:25:11.285Z\n",
      "3\n",
      "66\n",
      "紙袋破壞王🏆\n",
      "2019-11-28T09:43:33.709Z\n",
      "3\n",
      "51\n",
      "#圖 柴柴 你能懂我的明白嗎？\n",
      "2019-11-28T16:22:31.895Z\n",
      "4\n",
      "50\n",
      "幼貓送養🐱\n",
      "2019-11-28T13:38:34.117Z\n",
      "5\n",
      "38\n",
      "高科大校板的遺失倉鼠\n",
      "2019-11-28T05:23:12.530Z\n",
      "1\n",
      "36\n",
      "天冷怎麼辦ಥ_ಥ #柯基#圖多\n",
      "2019-11-28T15:47:50.708Z\n",
      "0\n",
      "34\n",
      "我竟然被我家ㄉ狗鄙視！\n",
      "2019-11-28T16:51:07.018Z\n",
      "1\n",
      "29\n",
      "幼貓送養文\n",
      "2019-11-28T02:52:25.651Z\n",
      "4\n",
      "28\n",
      "#募款 #貓 愛在街角，守護浪貓\n",
      "2019-11-28T07:11:04.741Z\n",
      "1\n",
      "25\n",
      "請問有人的柴犬走失嗎？(已找到失主，謝謝大家的幫忙🙏）\n",
      "2019-11-28T14:57:09.825Z\n",
      "3\n",
      "23\n",
      "貓咪教妳皮笑肉不笑🙂\n",
      "2019-11-28T11:55:17.571Z\n",
      "1\n",
      "21\n",
      "你也知道要坐那\n",
      "2019-11-28T17:00:22.755Z\n",
      "3\n",
      "20\n",
      "求吸鴨地點\n",
      "2019-11-28T03:29:49.177Z\n",
      "11\n",
      "19\n",
      "我養了一隻樹懶🦥\n",
      "2019-11-28T12:18:21.317Z\n",
      "5\n",
      "16\n",
      "當我的貓和海豹都是一個囧臉\n",
      "2019-11-28T05:35:09.787Z\n",
      "4\n",
      "16\n",
      "協尋幼犬\n",
      "2019-11-28T03:29:33.883Z\n",
      "1\n",
      "12\n",
      "👻我的隱形貓貓\n",
      "2019-11-28T03:34:49.818Z\n",
      "2\n",
      "11\n",
      "發現新品種貓咪！\n",
      "2019-11-28T12:22:13.105Z\n",
      "1\n",
      "7\n",
      "問貓貓的帳號\n",
      "2019-11-28T11:30:50.129Z\n",
      "0\n",
      "7\n",
      "挑戰極限的塞食物(๑˙❥˙๑)\n",
      "2019-11-28T07:55:21.256Z\n",
      "8\n",
      "7\n",
      "走失狗狗\n",
      "2019-11-28T03:23:31.964Z\n",
      "1\n",
      "7\n",
      "我家柴犬一系列照片\n",
      "2019-11-29T05:02:04.820Z\n",
      "0\n",
      "6\n",
      "就是你！！！我的菜！！！\n",
      "2019-11-29T03:10:51.060Z\n",
      "0\n",
      "6\n",
      "走失的寵物狗🦮\n",
      "2019-11-28T03:32:03.781Z\n",
      "0\n",
      "6\n"
     ]
    }
   ],
   "source": [
    "# 2. 取出每一筆資料的「標題」、「貼文時間」、「留言人數」、「按讚人數」\n",
    "\n",
    "import json\n",
    "data = json.loads(response)\n",
    "for d in data:\n",
    "    print((d['title']))\n",
    "    print((d['createdAt']))\n",
    "    print((d['commentCount']))\n",
    "    print((d['likeCount']))"
   ]
  },
  {
   "cell_type": "code",
   "execution_count": 23,
   "metadata": {},
   "outputs": [
    {
     "name": "stdout",
     "output_type": "stream",
     "text": [
      "4.733333333333333 70.2\n"
     ]
    }
   ],
   "source": [
    "# 3. 計算熱門/非熱門文章的「平均留言人數」與「平均按讚人數」\n",
    "#平均留言\n",
    "commentCount = 0\n",
    "likeCount = 0\n",
    "for d in data:\n",
    "    commentCount += d['commentCount']\n",
    "    likeCount += d['likeCount']\n",
    "\n",
    "print(commentCount/len(data), likeCount/len(data))\n",
    "\n"
   ]
  },
  {
   "cell_type": "code",
   "execution_count": null,
   "metadata": {},
   "outputs": [],
   "source": []
  },
  {
   "cell_type": "code",
   "execution_count": null,
   "metadata": {},
   "outputs": [],
   "source": []
  }
 ],
 "metadata": {
  "kernelspec": {
   "display_name": "Python 3",
   "language": "python",
   "name": "python3"
  },
  "language_info": {
   "codemirror_mode": {
    "name": "ipython",
    "version": 3
   },
   "file_extension": ".py",
   "mimetype": "text/x-python",
   "name": "python",
   "nbconvert_exporter": "python",
   "pygments_lexer": "ipython3",
   "version": "3.7.3"
  }
 },
 "nbformat": 4,
 "nbformat_minor": 2
}
