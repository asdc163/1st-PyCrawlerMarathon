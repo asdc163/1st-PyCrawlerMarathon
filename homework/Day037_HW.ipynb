{
 "cells": [
  {
   "cell_type": "markdown",
   "metadata": {},
   "source": [
    "# 自動化更新機制\n",
    "\n",
    "\n",
    "* 如何定期執行爬蟲程式\n",
    "* 更新時需要注意的事情是什麼？\n"
   ]
  },
  {
   "cell_type": "markdown",
   "metadata": {},
   "source": [
    "## 作業目標\n",
    "\n",
    "* 列舉一個是需要用自動化更新的機制來達成的爬蟲應用。"
   ]
  },
  {
   "cell_type": "code",
   "execution_count": 1,
   "metadata": {},
   "outputs": [
    {
     "name": "stdout",
     "output_type": "stream",
     "text": [
      "2020-01-17 10:45:30\n",
      "2020-01-17 10:45:32\n",
      "2020-01-17 10:45:34\n",
      "2020-01-17 10:45:36\n",
      "2020-01-17 10:45:38\n"
     ]
    }
   ],
   "source": [
    "import time\n",
    "\n",
    "def timer(n): \n",
    "    print(time.strftime('%Y-%m-%d %X', time.localtime()))\n",
    "    return\n",
    "\n",
    "count = 0\n",
    "while True:  \n",
    "    print(time.strftime('%Y-%m-%d %X', time.localtime()))  \n",
    "    time.sleep(2)\n",
    "    count += 1\n",
    "    if count >= 5:\n",
    "        break"
   ]
  },
  {
   "cell_type": "code",
   "execution_count": 2,
   "metadata": {},
   "outputs": [
    {
     "name": "stdout",
     "output_type": "stream",
     "text": [
      "2020-01-17 10:45:40\n"
     ]
    }
   ],
   "source": [
    "import time\n",
    "from threading import Timer\n",
    "\n",
    "def printHello(count):\n",
    "    count += 1\n",
    "    if count >= 5:\n",
    "        return\n",
    "    print(time.strftime('%Y-%m-%d %X', time.localtime()))\n",
    "    t = Timer(2, printHello, (count,)) \n",
    "    t.start() \n",
    "\n",
    "count = 0\n",
    "printHello(count)"
   ]
  },
  {
   "cell_type": "code",
   "execution_count": null,
   "metadata": {},
   "outputs": [
    {
     "name": "stdout",
     "output_type": "stream",
     "text": [
      "2020-01-17 10:45:422020-01-17 10:45:42\n",
      "\n",
      "2020-01-17 10:45:442020-01-17 10:45:44\n",
      "\n",
      "2020-01-17 10:45:46\n",
      "2020-01-17 10:45:46\n",
      "2020-01-17 10:45:48\n",
      "2020-01-17 10:45:50\n",
      "2020-01-17 10:45:52\n",
      "2020-01-17 10:45:54\n",
      "2020-01-17 10:45:56\n",
      "2020-01-17 10:45:58\n",
      "2020-01-17 10:46:00\n",
      "2020-01-17 10:46:02\n",
      "2020-01-17 10:46:04\n",
      "2020-01-17 10:46:06\n",
      "2020-01-17 10:46:08\n",
      "2020-01-17 10:46:10\n",
      "2020-01-17 10:46:12\n",
      "2020-01-17 10:46:14\n",
      "2020-01-17 10:46:16\n",
      "2020-01-17 10:46:18\n",
      "2020-01-17 10:46:20\n",
      "2020-01-17 10:46:22\n",
      "2020-01-17 10:46:24\n",
      "2020-01-17 10:46:26\n",
      "2020-01-17 10:46:28\n",
      "2020-01-17 10:46:30\n",
      "2020-01-17 10:46:32\n",
      "2020-01-17 10:46:34\n",
      "2020-01-17 10:46:36\n",
      "2020-01-17 10:46:38\n",
      "2020-01-17 10:46:40\n",
      "2020-01-17 10:46:42\n",
      "2020-01-17 10:46:44\n",
      "2020-01-17 10:46:46\n",
      "2020-01-17 10:46:48\n",
      "2020-01-17 10:46:50\n",
      "2020-01-17 10:46:52\n",
      "2020-01-17 10:46:54\n",
      "2020-01-17 10:46:56\n",
      "2020-01-17 10:46:58\n",
      "2020-01-17 10:47:00\n",
      "2020-01-17 10:47:02\n",
      "2020-01-17 10:47:04\n",
      "2020-01-17 10:47:06\n",
      "2020-01-17 10:47:08\n",
      "2020-01-17 10:47:10\n",
      "2020-01-17 10:47:12\n",
      "2020-01-17 10:47:14\n",
      "2020-01-17 10:47:16\n",
      "2020-01-17 10:47:18\n",
      "2020-01-17 10:47:20\n",
      "2020-01-17 10:47:22\n",
      "2020-01-17 10:47:24\n",
      "2020-01-17 10:47:26\n",
      "2020-01-17 10:47:28\n",
      "2020-01-17 10:47:30\n",
      "2020-01-17 10:47:32\n",
      "2020-01-17 10:47:34\n",
      "2020-01-17 10:47:36\n",
      "2020-01-17 10:47:38\n",
      "2020-01-17 10:47:40\n",
      "2020-01-17 10:47:42\n",
      "2020-01-17 10:47:44\n",
      "2020-01-17 10:47:46\n",
      "2020-01-17 10:47:48\n",
      "2020-01-17 10:47:50\n",
      "2020-01-17 10:47:52\n",
      "2020-01-17 10:47:54\n",
      "2020-01-17 10:47:56\n",
      "2020-01-17 10:47:58\n",
      "2020-01-17 10:48:00\n",
      "2020-01-17 10:48:02\n",
      "2020-01-17 10:48:04\n",
      "2020-01-17 10:48:06\n"
     ]
    }
   ],
   "source": [
    "import schedule\n",
    "import time\n",
    "\n",
    "def job():        \n",
    "    print(time.strftime('%Y-%m-%d %X', time.localtime()))\n",
    "\n",
    "schedule.every(2).seconds.do(job)\n",
    "\n",
    "while True:\n",
    "    schedule.run_pending()"
   ]
  },
  {
   "cell_type": "code",
   "execution_count": null,
   "metadata": {},
   "outputs": [],
   "source": []
  }
 ],
 "metadata": {
  "colab": {
   "name": "homework.ipynb",
   "provenance": []
  },
  "kernelspec": {
   "display_name": "Python 3",
   "language": "python",
   "name": "python3"
  },
  "language_info": {
   "codemirror_mode": {
    "name": "ipython",
    "version": 3
   },
   "file_extension": ".py",
   "mimetype": "text/x-python",
   "name": "python",
   "nbconvert_exporter": "python",
   "pygments_lexer": "ipython3",
   "version": "3.7.3"
  }
 },
 "nbformat": 4,
 "nbformat_minor": 1
}
